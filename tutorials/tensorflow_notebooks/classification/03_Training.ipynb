{
 "cells": [
  {
   "cell_type": "markdown",
   "id": "8f0a1757-de11-4cdf-853c-8e1e64018824",
   "metadata": {},
   "source": [
    "# Model Training and Fine-tuning"
   ]
  },
  {
   "cell_type": "code",
   "execution_count": 1,
   "id": "0d7f32ae-50c6-4710-bc13-75cbcdc180d3",
   "metadata": {
    "execution": {
     "iopub.execute_input": "2023-10-16T05:51:23.587377Z",
     "iopub.status.busy": "2023-10-16T05:51:23.586764Z",
     "iopub.status.idle": "2023-10-16T05:51:23.619126Z",
     "shell.execute_reply": "2023-10-16T05:51:23.617739Z",
     "shell.execute_reply.started": "2023-10-16T05:51:23.587316Z"
    },
    "tags": []
   },
   "outputs": [],
   "source": [
    "%load_ext autoreload\n",
    "%autoreload 2"
   ]
  },
  {
   "cell_type": "code",
   "execution_count": 2,
   "id": "7a477587-839d-4dc6-a902-fbffffa3c078",
   "metadata": {
    "execution": {
     "iopub.execute_input": "2023-10-16T05:51:23.621135Z",
     "iopub.status.busy": "2023-10-16T05:51:23.620907Z",
     "iopub.status.idle": "2023-10-16T05:51:24.174400Z",
     "shell.execute_reply": "2023-10-16T05:51:24.173348Z",
     "shell.execute_reply.started": "2023-10-16T05:51:23.621114Z"
    },
    "tags": []
   },
   "outputs": [],
   "source": [
    "import sys\n",
    "from glob import glob\n",
    "import pandas as pd\n",
    "import numpy as np\n",
    "import os\n",
    "# os.environ['TF_CPP_MIN_LOG_LEVEL'] = '3'\n",
    "os.environ['CUDA_VISIBLE_DEVICES'] = \"0\"\n",
    "\n",
    "\n",
    "REPO_ROOT = \"/home/mdorosan/2023/cv-toolkit\"\n",
    "META_PATH = os.path.join(REPO_ROOT, \"metadata/kvasir-capsule.csv\")\n",
    "DATA_ROOT = os.path.join(REPO_ROOT, \"datasets/kvasir-capsule\")\n",
    "\n",
    "# update with experiment name\n",
    "EXP_PATH = os.path.join(\n",
    "    REPO_ROOT,\n",
    "    \"tutorials/tensorflow_notebooks/classification/sample\")\n",
    "os.makedirs(EXP_PATH, exist_ok=True)\n",
    "\n",
    "sys.path.append(REPO_ROOT)"
   ]
  },
  {
   "cell_type": "markdown",
   "id": "2f0a560d-8aaa-4eed-9169-b4810e43cd16",
   "metadata": {},
   "source": [
    "This notebook demonstrates the training and fine-tuning of a custom image classifier that make use of a pre-trained CNN-base with custom dense layers implemented in `classification._model.py`. Other scripts used are the following:\n",
    "\n",
    "* `classification._paths.py` to initialize the paths to pre-trained model weights (i.e., imagenet or others)\n",
    "* `classification._config.py` to set hyperparameter configurations\n",
    "* `classification._utils.py` for other functions used in the tutorial notebooks\n",
    "\n",
    "\n",
    "**Note:** An epoch-wise logging and parameter scheduling (e.g., learning rate schedule) that use high level `tensorflow` objects is demonstrated in this tutorial; cases which prefer the use of a step-wise manner can be implemented by customizing the callbacks to use `on_batch_begin` and `on_batch_end` instead of `on_epoch_begin` and `on_epoch_end`.**Note:** An epoch-wise logging and parameter scheduling (e.g., learning rate schedule) that use high level `tensorflow` objects is demonstrated in this tutorial; cases which prefer the use of a step-wise manner can be implemented by customizing the callbacks to use `on_batch_begin` and `on_batch_end` instead of `on_epoch_begin` and `on_epoch_end`."
   ]
  },
  {
   "cell_type": "code",
   "execution_count": 3,
   "id": "613c3fac-5b2a-49de-b387-d817926fc845",
   "metadata": {
    "execution": {
     "iopub.execute_input": "2023-10-16T05:51:24.175620Z",
     "iopub.status.busy": "2023-10-16T05:51:24.175180Z",
     "iopub.status.idle": "2023-10-16T05:51:27.358955Z",
     "shell.execute_reply": "2023-10-16T05:51:27.357632Z",
     "shell.execute_reply.started": "2023-10-16T05:51:24.175583Z"
    },
    "tags": []
   },
   "outputs": [
    {
     "name": "stderr",
     "output_type": "stream",
     "text": [
      "2023-10-16 05:51:24.785275: I tensorflow/core/util/port.cc:110] oneDNN custom operations are on. You may see slightly different numerical results due to floating-point round-off errors from different computation orders. To turn them off, set the environment variable `TF_ENABLE_ONEDNN_OPTS=0`.\n",
      "2023-10-16 05:51:24.839188: I tensorflow/core/platform/cpu_feature_guard.cc:182] This TensorFlow binary is optimized to use available CPU instructions in performance-critical operations.\n",
      "To enable the following instructions: AVX2 AVX512F AVX512_VNNI FMA, in other operations, rebuild TensorFlow with the appropriate compiler flags.\n",
      "2023-10-16 05:51:25.705395: W tensorflow/compiler/tf2tensorrt/utils/py_utils.cc:38] TF-TRT Warning: Could not find TensorRT\n",
      "2023-10-16 05:51:26.743533: I tensorflow/core/common_runtime/gpu/gpu_device.cc:1639] Created device /job:localhost/replica:0/task:0/device:GPU:0 with 9803 MB memory:  -> device: 0, name: NVIDIA GeForce RTX 2080 Ti, pci bus id: 0000:3d:00.0, compute capability: 7.5\n"
     ]
    },
    {
     "name": "stdout",
     "output_type": "stream",
     "text": [
      "Deices Available:  [PhysicalDevice(name='/physical_device:CPU:0', device_type='CPU'), PhysicalDevice(name='/physical_device:GPU:0', device_type='GPU')]\n"
     ]
    }
   ],
   "source": [
    "from cvtoolkit import explore\n",
    "from cvtoolkit.tensorflow.classification._model import CustomClassifier\n",
    "import cvtoolkit.tensorflow.classification._config as CONFIG\n",
    "import cvtoolkit.tensorflow.classification._paths as PATHS\n",
    "import cvtoolkit.tensorflow.classification._utils as UTILS\n",
    "\n",
    "from tensorflow.keras.preprocessing.image import ImageDataGenerator\n",
    "from tensorflow.keras.callbacks import (\n",
    "    LearningRateScheduler, CSVLogger, ModelCheckpoint, ReduceLROnPlateau,\n",
    ")\n",
    "from tensorflow.keras import losses, metrics, optimizers\n",
    "\n",
    "from tensorflow.config import list_physical_devices\n",
    "\n",
    "# check GPUs\n",
    "print(\"Deices Available: \", list_physical_devices())"
   ]
  },
  {
   "cell_type": "markdown",
   "id": "2d96d236-7cef-47a2-826a-3475309b37c4",
   "metadata": {},
   "source": [
    "This tutorial demonstrates one of binary, multi-class, or multi-label classification tasks. The following table addresses the common confusion  when assigning a loss function based on the task and how the label array is structured. *For a light reference for on this subject, see this [link](https://wandb.ai/ayush-thakur/dl-question-bank/reports/A-Guide-to-Multi-Label-Classification-on-Keras--VmlldzoyMDgyMDU#:~:text=For%20a%20multi%2Dclass%20classification,the%20multi%2Dlabel%20classification%20setting).*\n",
    "\n",
    "| Task | Label structure | Last layer (logits) activation | Units in head | Loss function |\n",
    "|:---|:---|:---:|:---:|:---|\n",
    "| Binary | (batch_size, 1) | sigmoid | 1 | BinaryCrossentropy, BinaryFocalCrossentropy, etc |\n",
    "| Multiclass (n classes) | (batch_size, 1) label-encoded array | softmax | n | SparseCategoricalCrossentropy |\n",
    "|  | (batch_size, n) array | softmax | n | CategoricalCrossentropy, CategoricalFocalCrossentropy, etc |\n",
    "| Multilabel (n classes) | (batch_size, n) array | sigmoid | n | BinaryCrossentropy |\n"
   ]
  },
  {
   "cell_type": "code",
   "execution_count": 4,
   "id": "ea86ce9a-f437-493d-bb7f-b2b8d75f6258",
   "metadata": {
    "execution": {
     "iopub.execute_input": "2023-10-16T05:51:27.361139Z",
     "iopub.status.busy": "2023-10-16T05:51:27.360377Z",
     "iopub.status.idle": "2023-10-16T05:51:27.409936Z",
     "shell.execute_reply": "2023-10-16T05:51:27.408673Z",
     "shell.execute_reply.started": "2023-10-16T05:51:27.361101Z"
    },
    "tags": []
   },
   "outputs": [],
   "source": [
    "# tunable configs in the training pipeline\n",
    "BASE_MODEL = \"ResNet50\"\n",
    "DATAGEN_CONFIG = {\n",
    "    'horizontal_flip': True,\n",
    "    'vertical_flip': True,\n",
    "    'brightness_range': (0.4, 1.2),\n",
    "    'channel_shift_range': 150.0,\n",
    "}\n",
    "\n",
    "FLOW_CONFIG = {\n",
    "    'x_col': \"image_path\",\n",
    "    'validate_filenames': False,\n",
    "    'seed': 42,\n",
    "    'target_size': (224, 224),\n",
    "    'color_mode': 'rgb',\n",
    "    'class_mode': 'binary',  # binary, categorical, sparse\n",
    "    'interpolation': 'bilinear',\n",
    "    'batch_size': 128,\n",
    "}\n",
    "\n",
    "TRAIN_EPOCHS = 10\n",
    "TRAIN_OPTIMIZER = optimizers.legacy.Adam(learning_rate=0.001)\n",
    "FIT_CONFIG = {\n",
    "    'shuffle': True,\n",
    "    'verbose': 1,\n",
    "}\n",
    "\n",
    "COMPILE_CONFIG = {\n",
    "    'loss': losses.BinaryCrossentropy(),\n",
    "    'metrics': list(CONFIG.BINARY_METRICS.values()),\n",
    "    # 'metrics': list(CONFIG.MULTILABEL_METRICS.values()),\n",
    "    # 'metrics': list(CONFIG.MULTICLASS_METRICS.values()),\n",
    "}\n",
    "\n",
    "BASE_CONFIG = {\n",
    "    \"include_top\": False,\n",
    "    \"input_shape\": (*FLOW_CONFIG['target_size'], 3),\n",
    "    \"pooling\": \"max\",\n",
    "}\n",
    "\n",
    "CALLBACKS = [\n",
    "    # LearningRateScheduler(lambda epoch: 1e-3 * 0.9 ** epoch),\n",
    "    CSVLogger(os.path.join(REPO_ROOT, EXP_PATH, 'trainlog.csv'), append=False),\n",
    "    ReduceLROnPlateau(\n",
    "        monitor='val_loss',\n",
    "        factor=0.2,\n",
    "        patience=5,\n",
    "        verbose=1,\n",
    "        mode='min',\n",
    "        min_delta=0.0001,\n",
    "        cooldown=0,\n",
    "        min_lr=1e-8,\n",
    "    ),\n",
    "    # add model checkpoint\n",
    "]\n",
    "\n",
    "FT_CALLBACKS = [\n",
    "    LearningRateScheduler(\n",
    "        lambda epoch: 1e-4 * 0.2 ** epoch - TRAIN_EPOCHS),\n",
    "    CSVLogger(os.path.join(REPO_ROOT, EXP_PATH, 'log.csv'), append=False),\n",
    "    # add model checkpoint\n",
    "]\n",
    "FT_EPOCHS = 2\n",
    "FT_OPTIMIZER = optimizers.legacy.Adam(learning_rate=1e-6)"
   ]
  },
  {
   "cell_type": "code",
   "execution_count": 5,
   "id": "04d00455-8660-436f-8176-66ed464c29af",
   "metadata": {
    "execution": {
     "iopub.execute_input": "2023-10-16T05:51:27.411112Z",
     "iopub.status.busy": "2023-10-16T05:51:27.410780Z",
     "iopub.status.idle": "2023-10-16T05:51:27.783394Z",
     "shell.execute_reply": "2023-10-16T05:51:27.782092Z",
     "shell.execute_reply.started": "2023-10-16T05:51:27.411080Z"
    },
    "tags": []
   },
   "outputs": [
    {
     "name": "stdout",
     "output_type": "stream",
     "text": [
      "Classes for this task are:  ['Normal clean mucosa', 'Reduced mucosal view']\n"
     ]
    }
   ],
   "source": [
    "# load from directory\n",
    "from sklearn.model_selection import GroupShuffleSplit\n",
    "\n",
    "paths = glob(os.path.join(DATA_ROOT, '*', '*'))\n",
    "\n",
    "rows = []\n",
    "for path in paths:\n",
    "    img_meta = UTILS.path_parser(path)\n",
    "    rows.append(img_meta)\n",
    "\n",
    "metadata = pd.DataFrame(rows)\n",
    "TARGET_KEY = \"target\"  # used to stratify and get y\n",
    "GROUP_KEY = \"case_id\"  # used for grouped splits\n",
    "\n",
    "\n",
    "# add some filtering here if necessary\n",
    "use_classes = [\"Normal clean mucosa\", \"Reduced mucosal view\"]\n",
    "metadata = metadata.loc[metadata[TARGET_KEY].isin(use_classes)]\n",
    "\n",
    "\n",
    "# from notebook 2\n",
    "\n",
    "X, y = metadata.drop(columns=[TARGET_KEY]), metadata[TARGET_KEY]\n",
    "groups = metadata[GROUP_KEY]\n",
    "gss = GroupShuffleSplit(n_splits=1, test_size=0.2, random_state=0)\n",
    "\n",
    "for i, (train_index, val_index) in enumerate(gss.split(X, y, groups)):\n",
    "    TRAIN = metadata.iloc[train_index]\n",
    "    VAL = metadata.iloc[val_index]\n",
    "\n",
    "CLASSES = y.unique().tolist()\n",
    "print(\"Classes for this task are: \", CLASSES)"
   ]
  },
  {
   "cell_type": "code",
   "execution_count": 6,
   "id": "79dd46a5-90ed-4461-9c74-035f7d45b5e4",
   "metadata": {
    "execution": {
     "iopub.execute_input": "2023-10-16T05:51:27.784988Z",
     "iopub.status.busy": "2023-10-16T05:51:27.784644Z",
     "iopub.status.idle": "2023-10-16T05:51:27.963565Z",
     "shell.execute_reply": "2023-10-16T05:51:27.962354Z",
     "shell.execute_reply.started": "2023-10-16T05:51:27.784963Z"
    },
    "tags": []
   },
   "outputs": [
    {
     "name": "stdout",
     "output_type": "stream",
     "text": [
      "Found 30318 non-validated image filenames belonging to 2 classes.\n",
      "Found 6926 non-validated image filenames belonging to 2 classes.\n"
     ]
    }
   ],
   "source": [
    "# init preprocessing function\n",
    "preprocessing_function = CONFIG.BASE_PREPROCESSOR[BASE_MODEL]\n",
    "\n",
    "# initialize data generators\n",
    "train_datagen = ImageDataGenerator(\n",
    "    **DATAGEN_CONFIG,\n",
    "    preprocessing_function=preprocessing_function,\n",
    ")\n",
    "\n",
    "CLASS_WEIGHTS = UTILS.get_class_weights(\n",
    "    class_weight='balanced',\n",
    "    classes=y.unique(),\n",
    "    y=y,\n",
    ")\n",
    "\n",
    "test_datagen = ImageDataGenerator(\n",
    "    preprocessing_function=preprocessing_function,\n",
    ")\n",
    "\n",
    "train_dataset = train_datagen.flow_from_dataframe(\n",
    "    dataframe=TRAIN,\n",
    "    directory=DATA_ROOT,\n",
    "    y_col=TARGET_KEY,\n",
    "    classes=CLASSES,\n",
    "    **FLOW_CONFIG,\n",
    ")\n",
    "\n",
    "val_dataset = test_datagen.flow_from_dataframe(\n",
    "    dataframe=VAL,\n",
    "    directory=DATA_ROOT,\n",
    "    y_col=TARGET_KEY,\n",
    "    classes=CLASSES,\n",
    "    **FLOW_CONFIG,\n",
    ")"
   ]
  },
  {
   "cell_type": "code",
   "execution_count": 7,
   "id": "bdf43f92-6a5d-484a-8fce-6d817694d4eb",
   "metadata": {
    "execution": {
     "iopub.execute_input": "2023-10-16T05:51:27.967073Z",
     "iopub.status.busy": "2023-10-16T05:51:27.966713Z",
     "iopub.status.idle": "2023-10-16T05:51:28.977342Z",
     "shell.execute_reply": "2023-10-16T05:51:28.976321Z",
     "shell.execute_reply.started": "2023-10-16T05:51:27.967038Z"
    },
    "tags": []
   },
   "outputs": [
    {
     "name": "stdout",
     "output_type": "stream",
     "text": [
      "(128, 224, 224, 3)\n",
      "(128,)\n",
      "0.0\n"
     ]
    }
   ],
   "source": [
    "for batch, label in train_dataset:\n",
    "    print(batch.shape)\n",
    "    print(label.shape)\n",
    "    print(label[0])\n",
    "    break"
   ]
  },
  {
   "cell_type": "code",
   "execution_count": 8,
   "id": "8151d4ab-95c4-4d42-a8ed-a0946fee4704",
   "metadata": {
    "execution": {
     "iopub.execute_input": "2023-10-16T05:51:28.978481Z",
     "iopub.status.busy": "2023-10-16T05:51:28.978230Z",
     "iopub.status.idle": "2023-10-16T05:51:30.459862Z",
     "shell.execute_reply": "2023-10-16T05:51:30.458649Z",
     "shell.execute_reply.started": "2023-10-16T05:51:28.978458Z"
    },
    "tags": []
   },
   "outputs": [],
   "source": [
    "model = CustomClassifier(\n",
    "    base=BASE_MODEL,\n",
    "    **BASE_CONFIG,\n",
    ")\n",
    "# model.build((None, *BASE_CONFIG[\"input_shape\"]))\n",
    "# model.summary()"
   ]
  },
  {
   "cell_type": "markdown",
   "id": "00b58f25-3b4f-46d6-b0e1-4b0d6c30cd12",
   "metadata": {},
   "source": [
    "## Initial Training"
   ]
  },
  {
   "cell_type": "code",
   "execution_count": null,
   "id": "43ffd736-3ab6-477d-8a85-1892123abbf8",
   "metadata": {
    "execution": {
     "iopub.execute_input": "2023-10-16T05:51:30.461229Z",
     "iopub.status.busy": "2023-10-16T05:51:30.460983Z"
    },
    "tags": []
   },
   "outputs": [
    {
     "name": "stderr",
     "output_type": "stream",
     "text": [
      "2023-10-16 05:51:31.559423: I tensorflow/compiler/xla/stream_executor/cuda/cuda_dnn.cc:432] Loaded cuDNN version 8900\n"
     ]
    },
    {
     "name": "stdout",
     "output_type": "stream",
     "text": [
      "Epoch 1/10\n",
      " 39/237 [===>..........................] - ETA: 3:37 - loss: 1.8253 - AUC_PR: 0.3372 - AUC_ROC: 0.8594"
     ]
    }
   ],
   "source": [
    "# model.base.trainable = False\n",
    "model.compile(optimizer=TRAIN_OPTIMIZER, **COMPILE_CONFIG)\n",
    "model.fit(\n",
    "    train_dataset,\n",
    "    validation_data=val_dataset,\n",
    "    epochs=TRAIN_EPOCHS,\n",
    "    class_weight=CLASS_WEIGHTS,\n",
    "    callbacks=CALLBACKS,\n",
    "    **FIT_CONFIG,\n",
    ")"
   ]
  },
  {
   "cell_type": "markdown",
   "id": "643f0b8e-df58-4363-8048-b5ba28d23e60",
   "metadata": {},
   "source": [
    "## Fine-tuning"
   ]
  },
  {
   "cell_type": "code",
   "execution_count": null,
   "id": "9bb87692-4b30-400e-b515-730ba4c1c256",
   "metadata": {
    "tags": []
   },
   "outputs": [],
   "source": [
    "PCT_FT_LAYERS = 0.10\n",
    "NUM_TRAINABLE, _ = UTILS.inspect_trainable_layers(\n",
    "    model.base, return_counts=True)\n",
    "N = int(np.ceil(NUM_TRAINABLE * PCT_FT_LAYERS))"
   ]
  },
  {
   "cell_type": "code",
   "execution_count": null,
   "id": "7ed84cc7-965d-4b13-a625-dfdb9bf72e05",
   "metadata": {
    "tags": []
   },
   "outputs": [],
   "source": [
    "# set ALL layers to trainable\n",
    "model.base.trainable = True\n",
    "\n",
    "# leave last N layers as trainable\n",
    "for layer in model.base.layers[:-N]:\n",
    "    if layer.get_weights():\n",
    "        layer.trainable = False"
   ]
  },
  {
   "cell_type": "code",
   "execution_count": null,
   "id": "ac753ddc-09d8-4220-adf5-3016fcf4ca1a",
   "metadata": {
    "tags": []
   },
   "outputs": [],
   "source": [
    "model.compile(optimizer=FT_OPTIMIZER, **COMPILE_CONFIG)\n",
    "model.fit(\n",
    "    train_dataset,\n",
    "    validation_data=val_dataset,\n",
    "    epochs=FT_EPOCHS,\n",
    "    class_weight=CLASS_WEIGHTS,\n",
    "    callbacks=FT_CALLBACKS,  # updated init LR and LR schedule\n",
    "    **FIT_CONFIG,\n",
    ")"
   ]
  },
  {
   "cell_type": "markdown",
   "id": "ef2a8c4f-9aa2-48db-a958-20f20df156e0",
   "metadata": {},
   "source": [
    "## Final note\n",
    "\n",
    "As it is often the case that classification problems deal with imbalanced data, a loss function that specializes in an imbalanced problem may be necessary--some proposed solutions [1-3] use a differentialble precision, recall, and f-beta loss to directly evaluate performance on minority classes of interest. Others [4] includes the calibration of the decision threshold within the training and backpropagation step. This tutorial shows the simple case of weighting the loss function according to some user-defined `CLASS_WEIGHTS` look-up to address the imbalance.\n",
    "\n",
    "### References\n",
    "\n",
    "1.  Fränti P, Mariescu-Istodor R. Soft precision and recall. Pattern Recognition Letters. 2023 Mar 1;167:115–21. \n",
    "2.  Yacouby R, Axman D. Probabilistic Extension of Precision, Recall, and F1 Score for More Thorough Evaluation of Classification Models. In: Proceedings of the First Workshop on Evaluation and Comparison of NLP Systems [Internet]. Online: Association for Computational Linguistics; 2020 [cited 2023 Oct 16]. p. 79–91. Available from: https://aclanthology.org/2020.eval4nlp-1.9\n",
    "3.  Lee N, Yang H, Yoo H. A surrogate loss function for optimization of $F_\\beta$ score in binary classification with imbalanced data [Internet]. arXiv; 2021 [cited 2023 Oct 16]. Available from: http://arxiv.org/abs/2104.01459\n",
    "4.  Cal-Net: Jointly Learning Classification and Calibration On Imbalanced Binary Classification Tasks | IEEE Conference Publication | IEEE Xplore [Internet]. [cited 2023 Oct 16]. Available from: https://ieeexplore-ieee-org.libproxy1.nus.edu.sg/abstract/document/9534411\n",
    "\n",
    "### Blog references\n",
    "* Maiza A. Multi-Label Image Classification in TensorFlow 2.0 [Internet]. Medium. 2019 [cited 2023 Oct 16]. Available from: https://towardsdatascience.com/multi-label-image-classification-in-tensorflow-2-0-7d4cf8a4bc72\n",
    "* Maiza A. The Unknown Benefits of using a Soft-F1 Loss in Classification Systems [Internet]. Medium. 2020 [cited 2023 Oct 16]. Available from: https://towardsdatascience.com/the-unknown-benefits-of-using-a-soft-f1-loss-in-classification-systems-753902c0105d\n"
   ]
  },
  {
   "cell_type": "markdown",
   "id": "7eb04b43-97d0-48a4-b395-1a9ec70e5044",
   "metadata": {},
   "source": [
    "## End."
   ]
  }
 ],
 "metadata": {
  "kernelspec": {
   "display_name": "Python 3 (ipykernel)",
   "language": "python",
   "name": "python3"
  },
  "language_info": {
   "codemirror_mode": {
    "name": "ipython",
    "version": 3
   },
   "file_extension": ".py",
   "mimetype": "text/x-python",
   "name": "python",
   "nbconvert_exporter": "python",
   "pygments_lexer": "ipython3",
   "version": "3.10.12"
  }
 },
 "nbformat": 4,
 "nbformat_minor": 5
}
