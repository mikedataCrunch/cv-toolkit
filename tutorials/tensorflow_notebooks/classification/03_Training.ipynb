{
 "cells": [
  {
   "cell_type": "markdown",
   "id": "2f0a560d-8aaa-4eed-9169-b4810e43cd16",
   "metadata": {},
   "source": [
    "# Model Training and Fine-tuning"
   ]
  },
  {
   "cell_type": "code",
   "execution_count": 3,
   "id": "0d7f32ae-50c6-4710-bc13-75cbcdc180d3",
   "metadata": {
    "execution": {
     "iopub.execute_input": "2023-10-15T09:18:23.183324Z",
     "iopub.status.busy": "2023-10-15T09:18:23.182474Z",
     "iopub.status.idle": "2023-10-15T09:18:23.759220Z",
     "shell.execute_reply": "2023-10-15T09:18:23.757703Z",
     "shell.execute_reply.started": "2023-10-15T09:18:23.183284Z"
    },
    "tags": []
   },
   "outputs": [],
   "source": [
    "%load_ext autoreload\n",
    "%autoreload 2"
   ]
  },
  {
   "cell_type": "code",
   "execution_count": 21,
   "id": "7a477587-839d-4dc6-a902-fbffffa3c078",
   "metadata": {
    "execution": {
     "iopub.execute_input": "2023-10-15T09:31:39.442013Z",
     "iopub.status.busy": "2023-10-15T09:31:39.441403Z",
     "iopub.status.idle": "2023-10-15T09:31:39.514795Z",
     "shell.execute_reply": "2023-10-15T09:31:39.513639Z",
     "shell.execute_reply.started": "2023-10-15T09:31:39.441962Z"
    },
    "tags": []
   },
   "outputs": [],
   "source": [
    "import os\n",
    "# os.environ['TF_CPP_MIN_LOG_LEVEL'] = '3'\n",
    "\n",
    "import pandas as pd\n",
    "from glob import glob\n",
    "\n",
    "REPO_ROOT = \"/home/mdorosan/2023/cv-toolkit\"\n",
    "META_PATH = os.path.join(REPO_ROOT, \"metadata/kvasir-capsule.csv\")\n",
    "DATA_ROOT = os.path.join(REPO_ROOT, \"datasets/kvasir-capsule\")\n",
    "\n",
    "# update with experiment name\n",
    "EXP_PATH = os.path.join(\n",
    "    REPO_ROOT, \n",
    "    \"tutorials/tensorflow_notebooks/classification/sample\") \n",
    "os.makedirs(EXP_PATH, exist_ok=True)\n",
    "\n",
    "import sys\n",
    "sys.path.append(REPO_ROOT)"
   ]
  },
  {
   "cell_type": "code",
   "execution_count": 91,
   "id": "ea86ce9a-f437-493d-bb7f-b2b8d75f6258",
   "metadata": {
    "execution": {
     "iopub.execute_input": "2023-10-15T10:23:22.306028Z",
     "iopub.status.busy": "2023-10-15T10:23:22.305495Z",
     "iopub.status.idle": "2023-10-15T10:23:22.378942Z",
     "shell.execute_reply": "2023-10-15T10:23:22.377970Z",
     "shell.execute_reply.started": "2023-10-15T10:23:22.305983Z"
    },
    "tags": []
   },
   "outputs": [],
   "source": [
    "from cvtoolkit import explore\n",
    "from cvtoolkit.tensorflow.classification._model import CustomClassifier\n",
    "import cvtoolkit.tensorflow.classification._config as CONFIG\n",
    "import cvtoolkit.tensorflow.classification._paths as PATHS\n",
    "import cvtoolkit.tensorflow.classification._utils as UTILS\n",
    "\n",
    "from tensorflow.keras.preprocessing.image import ImageDataGenerator\n",
    "from tensorflow.keras.callbacks import (\n",
    "    LearningRateScheduler, CSVLogger, ModelCheckpoint, ReduceLROnPlateau,\n",
    ")\n",
    "from tensorflow.keras import (losses, metrics, optimizers)\n",
    "\n",
    "BASE_MODEL = \"ResNet50\"\n",
    "DATAGEN_CONFIG = {     \n",
    "    'horizontal_flip': True, \n",
    "    'brightness_range': (0.85, 1.05),\n",
    "}\n",
    "\n",
    "FLOW_CONFIG = {\n",
    "    'x_col' : \"image_path\",\n",
    "    'validate_filenames' : False,\n",
    "    'seed' : 42,\n",
    "    'target_size' : (224, 224), \n",
    "    'color_mode' : 'rgb',\n",
    "    'class_mode' : 'categorical', # binary\n",
    "    'interpolation' : 'bilinear',    \n",
    "    'batch_size' : 64,\n",
    "}\n",
    "\n",
    "FIT_CONFIG = {\n",
    "    'shuffle' : True,\n",
    "    'verbose' : 1,    \n",
    "}\n",
    "\n",
    "BASE_CONFIG = {\n",
    "    \"include_top\": False,\n",
    "    \"input_shape\": (*FLOW_CONFIG['target_size'], 3),\n",
    "    \"pooling\" : \"max\",\n",
    "}\n",
    "OPTIMIZER = CONFIG.OPTIMIZER_DICT['Adam']\n",
    "CALLBACKS = [\n",
    "    # LearningRateScheduler(lambda epoch: 1e-3 * 0.9 ** epoch),\n",
    "    CSVLogger(os.path.join(REPO_ROOT, EXP_PATH, 'trainlog.csv'), append=False),\n",
    "    ReduceLROnPlateau(\n",
    "        monitor='val_loss',\n",
    "        factor=0.2,\n",
    "        patience=5,\n",
    "        verbose=1,\n",
    "        mode='min',\n",
    "        min_delta=0.0001,\n",
    "        cooldown=0,\n",
    "        min_lr=1e-8,\n",
    "    ),\n",
    "    # add model checkpoint\n",
    "]\n",
    "TRAIN_EPOCHS = 50\n",
    "\n",
    "FT_CALLBACKS = [\n",
    "    LearningRateScheduler(\n",
    "        lambda epoch: 1e-4 * 0.2 ** epoch - TRAIN_EPOCHS),\n",
    "    CSVLogger(os.path.join(REPO_ROOT, EXP_PATH, 'log.csv'), append=False),\n",
    "    # add model checkpoint\n",
    "]\n",
    "FT_EPOCHS = 10"
   ]
  },
  {
   "cell_type": "code",
   "execution_count": 67,
   "id": "04d00455-8660-436f-8176-66ed464c29af",
   "metadata": {
    "execution": {
     "iopub.execute_input": "2023-10-15T09:49:37.971085Z",
     "iopub.status.busy": "2023-10-15T09:49:37.970487Z",
     "iopub.status.idle": "2023-10-15T09:49:38.490912Z",
     "shell.execute_reply": "2023-10-15T09:49:38.489625Z",
     "shell.execute_reply.started": "2023-10-15T09:49:37.971037Z"
    },
    "tags": []
   },
   "outputs": [],
   "source": [
    "# load from directory\n",
    "paths = glob(os.path.join(DATA_ROOT, '*', '*'))\n",
    "\n",
    "\n",
    "rows = []\n",
    "for path in paths:\n",
    "    img_meta = UTILS.path_parser(path)\n",
    "    rows.append(img_meta)\n",
    "\n",
    "metadata = pd.DataFrame(rows)\n",
    "TARGET_KEY = \"target\" # used to stratify and get y\n",
    "GROUP_KEY = \"case_id\" # used for grouped splits\n",
    "\n",
    "\n",
    "# add some filtering here if necessary\n",
    "use_classes = [\"Normal clean mucosa\", \"Reduced mucosal view\"]\n",
    "metadata = metadata.loc[metadata[TARGET_KEY].isin(use_classes)]\n",
    "\n",
    "\n",
    "# from notebook 2\n",
    "from sklearn.model_selection import GroupShuffleSplit\n",
    "\n",
    "X, y = metadata.drop(columns=[TARGET_KEY]), metadata[TARGET_KEY]\n",
    "groups = metadata[GROUP_KEY]\n",
    "gss = GroupShuffleSplit(n_splits=1, test_size=0.2, random_state=0)\n",
    "\n",
    "for i, (train_index, val_index) in enumerate(gss.split(X, y, groups)):\n",
    "    TRAIN = metadata.iloc[train_index]\n",
    "    VAL = metadata.iloc[val_index]\n",
    "\n",
    "CLASSES = y.unique().tolist()"
   ]
  },
  {
   "cell_type": "code",
   "execution_count": 104,
   "id": "79dd46a5-90ed-4461-9c74-035f7d45b5e4",
   "metadata": {
    "execution": {
     "iopub.execute_input": "2023-10-15T10:31:13.196382Z",
     "iopub.status.busy": "2023-10-15T10:31:13.195772Z",
     "iopub.status.idle": "2023-10-15T10:31:13.982778Z",
     "shell.execute_reply": "2023-10-15T10:31:13.981269Z",
     "shell.execute_reply.started": "2023-10-15T10:31:13.196332Z"
    },
    "tags": []
   },
   "outputs": [
    {
     "name": "stdout",
     "output_type": "stream",
     "text": [
      "Found 30318 non-validated image filenames belonging to 2 classes.\n",
      "Found 6926 non-validated image filenames belonging to 2 classes.\n"
     ]
    }
   ],
   "source": [
    "# init preprocessing function\n",
    "preprocessing_function = CONFIG.BASE_PREPROCESSOR[BASE_MODEL]\n",
    "\n",
    "# initialize data generators\n",
    "train_datagen = ImageDataGenerator(\n",
    "    **DATAGEN_CONFIG,\n",
    "    preprocessing_function=preprocessing_function,\n",
    ")\n",
    "\n",
    "CLASS_WEIGHTS = UTILS.get_class_weights(\n",
    "    class_weight='balanced',\n",
    "    classes=y.unique(),\n",
    "    y=y,\n",
    ")\n",
    "\n",
    "test_datagen = ImageDataGenerator(\n",
    "    preprocessing_function=preprocessing_function, \n",
    ")\n",
    "\n",
    "train_dataset = train_datagen.flow_from_dataframe(\n",
    "    dataframe=TRAIN,\n",
    "    directory=DATA_ROOT,\n",
    "    y_col=TARGET_KEY,\n",
    "    classes=CLASSES,\n",
    "    **FLOW_CONFIG,\n",
    ")\n",
    "\n",
    "val_dataset = test_datagen.flow_from_dataframe(\n",
    "    dataframe=VAL,\n",
    "    directory=DATA_ROOT,\n",
    "    y_col=TARGET_KEY,\n",
    "    classes=CLASSES,\n",
    "    **FLOW_CONFIG,\n",
    ")"
   ]
  },
  {
   "cell_type": "code",
   "execution_count": 106,
   "id": "8151d4ab-95c4-4d42-a8ed-a0946fee4704",
   "metadata": {
    "execution": {
     "iopub.execute_input": "2023-10-15T10:31:25.191167Z",
     "iopub.status.busy": "2023-10-15T10:31:25.190372Z",
     "iopub.status.idle": "2023-10-15T10:31:26.856681Z",
     "shell.execute_reply": "2023-10-15T10:31:26.854958Z",
     "shell.execute_reply.started": "2023-10-15T10:31:25.191114Z"
    },
    "tags": []
   },
   "outputs": [],
   "source": [
    "model = CustomClassifier(\n",
    "    base=BASE_MODEL, \n",
    "    **BASE_CONFIG,\n",
    ")\n",
    "# model.build((None, *BASE_CONFIG[\"input_shape\"]))\n",
    "# model.summary()"
   ]
  },
  {
   "cell_type": "markdown",
   "id": "00b58f25-3b4f-46d6-b0e1-4b0d6c30cd12",
   "metadata": {},
   "source": [
    "## Initial Training"
   ]
  },
  {
   "cell_type": "code",
   "execution_count": 107,
   "id": "43ffd736-3ab6-477d-8a85-1892123abbf8",
   "metadata": {
    "execution": {
     "iopub.execute_input": "2023-10-15T10:31:26.859929Z",
     "iopub.status.busy": "2023-10-15T10:31:26.859496Z",
     "iopub.status.idle": "2023-10-15T10:32:31.357928Z",
     "shell.execute_reply": "2023-10-15T10:32:31.356417Z",
     "shell.execute_reply.started": "2023-10-15T10:31:26.859887Z"
    },
    "tags": []
   },
   "outputs": [
    {
     "name": "stdout",
     "output_type": "stream",
     "text": [
      "Epoch 1/50\n",
      "  3/474 [..............................] - ETA: 1:19:46 - loss: 5.5393 - AUC_PR: 0.4753 - AUC_ROC: 0.4653"
     ]
    },
    {
     "ename": "KeyboardInterrupt",
     "evalue": "",
     "output_type": "error",
     "traceback": [
      "\u001b[0;31m---------------------------------------------------------------------------\u001b[0m",
      "\u001b[0;31mKeyboardInterrupt\u001b[0m                         Traceback (most recent call last)",
      "Cell \u001b[0;32mIn[107], line 3\u001b[0m\n\u001b[1;32m      1\u001b[0m \u001b[38;5;66;03m# model.base.trainable = False\u001b[39;00m\n\u001b[1;32m      2\u001b[0m model\u001b[38;5;241m.\u001b[39mcompile(optimizer\u001b[38;5;241m=\u001b[39mOPTIMIZER, \u001b[38;5;241m*\u001b[39m\u001b[38;5;241m*\u001b[39mCONFIG\u001b[38;5;241m.\u001b[39mCOMPILE_PARAMS)\n\u001b[0;32m----> 3\u001b[0m \u001b[43mmodel\u001b[49m\u001b[38;5;241;43m.\u001b[39;49m\u001b[43mfit\u001b[49m\u001b[43m(\u001b[49m\n\u001b[1;32m      4\u001b[0m \u001b[43m    \u001b[49m\u001b[43mtrain_dataset\u001b[49m\u001b[43m,\u001b[49m\n\u001b[1;32m      5\u001b[0m \u001b[43m    \u001b[49m\u001b[43mvalidation_data\u001b[49m\u001b[38;5;241;43m=\u001b[39;49m\u001b[43mval_dataset\u001b[49m\u001b[43m,\u001b[49m\n\u001b[1;32m      6\u001b[0m \u001b[43m    \u001b[49m\u001b[43mepochs\u001b[49m\u001b[38;5;241;43m=\u001b[39;49m\u001b[43mTRAIN_EPOCHS\u001b[49m\u001b[43m,\u001b[49m\n\u001b[1;32m      7\u001b[0m \u001b[43m    \u001b[49m\u001b[43mclass_weight\u001b[49m\u001b[38;5;241;43m=\u001b[39;49m\u001b[43mCLASS_WEIGHTS\u001b[49m\u001b[43m,\u001b[49m\n\u001b[1;32m      8\u001b[0m \u001b[43m    \u001b[49m\u001b[43mcallbacks\u001b[49m\u001b[38;5;241;43m=\u001b[39;49m\u001b[43mCALLBACKS\u001b[49m\u001b[43m,\u001b[49m\n\u001b[1;32m      9\u001b[0m \u001b[43m    \u001b[49m\u001b[38;5;241;43m*\u001b[39;49m\u001b[38;5;241;43m*\u001b[39;49m\u001b[43mFIT_CONFIG\u001b[49m\u001b[43m,\u001b[49m\n\u001b[1;32m     10\u001b[0m \u001b[43m)\u001b[49m\n",
      "File \u001b[0;32m~/.conda-envs/tf-gpu-cv/lib/python3.8/site-packages/keras/utils/traceback_utils.py:65\u001b[0m, in \u001b[0;36mfilter_traceback.<locals>.error_handler\u001b[0;34m(*args, **kwargs)\u001b[0m\n\u001b[1;32m     63\u001b[0m filtered_tb \u001b[38;5;241m=\u001b[39m \u001b[38;5;28;01mNone\u001b[39;00m\n\u001b[1;32m     64\u001b[0m \u001b[38;5;28;01mtry\u001b[39;00m:\n\u001b[0;32m---> 65\u001b[0m     \u001b[38;5;28;01mreturn\u001b[39;00m \u001b[43mfn\u001b[49m\u001b[43m(\u001b[49m\u001b[38;5;241;43m*\u001b[39;49m\u001b[43margs\u001b[49m\u001b[43m,\u001b[49m\u001b[43m \u001b[49m\u001b[38;5;241;43m*\u001b[39;49m\u001b[38;5;241;43m*\u001b[39;49m\u001b[43mkwargs\u001b[49m\u001b[43m)\u001b[49m\n\u001b[1;32m     66\u001b[0m \u001b[38;5;28;01mexcept\u001b[39;00m \u001b[38;5;167;01mException\u001b[39;00m \u001b[38;5;28;01mas\u001b[39;00m e:\n\u001b[1;32m     67\u001b[0m     filtered_tb \u001b[38;5;241m=\u001b[39m _process_traceback_frames(e\u001b[38;5;241m.\u001b[39m__traceback__)\n",
      "File \u001b[0;32m~/.conda-envs/tf-gpu-cv/lib/python3.8/site-packages/keras/engine/training.py:1685\u001b[0m, in \u001b[0;36mModel.fit\u001b[0;34m(self, x, y, batch_size, epochs, verbose, callbacks, validation_split, validation_data, shuffle, class_weight, sample_weight, initial_epoch, steps_per_epoch, validation_steps, validation_batch_size, validation_freq, max_queue_size, workers, use_multiprocessing)\u001b[0m\n\u001b[1;32m   1677\u001b[0m \u001b[38;5;28;01mwith\u001b[39;00m tf\u001b[38;5;241m.\u001b[39mprofiler\u001b[38;5;241m.\u001b[39mexperimental\u001b[38;5;241m.\u001b[39mTrace(\n\u001b[1;32m   1678\u001b[0m     \u001b[38;5;124m\"\u001b[39m\u001b[38;5;124mtrain\u001b[39m\u001b[38;5;124m\"\u001b[39m,\n\u001b[1;32m   1679\u001b[0m     epoch_num\u001b[38;5;241m=\u001b[39mepoch,\n\u001b[0;32m   (...)\u001b[0m\n\u001b[1;32m   1682\u001b[0m     _r\u001b[38;5;241m=\u001b[39m\u001b[38;5;241m1\u001b[39m,\n\u001b[1;32m   1683\u001b[0m ):\n\u001b[1;32m   1684\u001b[0m     callbacks\u001b[38;5;241m.\u001b[39mon_train_batch_begin(step)\n\u001b[0;32m-> 1685\u001b[0m     tmp_logs \u001b[38;5;241m=\u001b[39m \u001b[38;5;28;43mself\u001b[39;49m\u001b[38;5;241;43m.\u001b[39;49m\u001b[43mtrain_function\u001b[49m\u001b[43m(\u001b[49m\u001b[43miterator\u001b[49m\u001b[43m)\u001b[49m\n\u001b[1;32m   1686\u001b[0m     \u001b[38;5;28;01mif\u001b[39;00m data_handler\u001b[38;5;241m.\u001b[39mshould_sync:\n\u001b[1;32m   1687\u001b[0m         context\u001b[38;5;241m.\u001b[39masync_wait()\n",
      "File \u001b[0;32m~/.conda-envs/tf-gpu-cv/lib/python3.8/site-packages/tensorflow/python/util/traceback_utils.py:150\u001b[0m, in \u001b[0;36mfilter_traceback.<locals>.error_handler\u001b[0;34m(*args, **kwargs)\u001b[0m\n\u001b[1;32m    148\u001b[0m filtered_tb \u001b[38;5;241m=\u001b[39m \u001b[38;5;28;01mNone\u001b[39;00m\n\u001b[1;32m    149\u001b[0m \u001b[38;5;28;01mtry\u001b[39;00m:\n\u001b[0;32m--> 150\u001b[0m   \u001b[38;5;28;01mreturn\u001b[39;00m \u001b[43mfn\u001b[49m\u001b[43m(\u001b[49m\u001b[38;5;241;43m*\u001b[39;49m\u001b[43margs\u001b[49m\u001b[43m,\u001b[49m\u001b[43m \u001b[49m\u001b[38;5;241;43m*\u001b[39;49m\u001b[38;5;241;43m*\u001b[39;49m\u001b[43mkwargs\u001b[49m\u001b[43m)\u001b[49m\n\u001b[1;32m    151\u001b[0m \u001b[38;5;28;01mexcept\u001b[39;00m \u001b[38;5;167;01mException\u001b[39;00m \u001b[38;5;28;01mas\u001b[39;00m e:\n\u001b[1;32m    152\u001b[0m   filtered_tb \u001b[38;5;241m=\u001b[39m _process_traceback_frames(e\u001b[38;5;241m.\u001b[39m__traceback__)\n",
      "File \u001b[0;32m~/.conda-envs/tf-gpu-cv/lib/python3.8/site-packages/tensorflow/python/eager/polymorphic_function/polymorphic_function.py:894\u001b[0m, in \u001b[0;36mFunction.__call__\u001b[0;34m(self, *args, **kwds)\u001b[0m\n\u001b[1;32m    891\u001b[0m compiler \u001b[38;5;241m=\u001b[39m \u001b[38;5;124m\"\u001b[39m\u001b[38;5;124mxla\u001b[39m\u001b[38;5;124m\"\u001b[39m \u001b[38;5;28;01mif\u001b[39;00m \u001b[38;5;28mself\u001b[39m\u001b[38;5;241m.\u001b[39m_jit_compile \u001b[38;5;28;01melse\u001b[39;00m \u001b[38;5;124m\"\u001b[39m\u001b[38;5;124mnonXla\u001b[39m\u001b[38;5;124m\"\u001b[39m\n\u001b[1;32m    893\u001b[0m \u001b[38;5;28;01mwith\u001b[39;00m OptionalXlaContext(\u001b[38;5;28mself\u001b[39m\u001b[38;5;241m.\u001b[39m_jit_compile):\n\u001b[0;32m--> 894\u001b[0m   result \u001b[38;5;241m=\u001b[39m \u001b[38;5;28;43mself\u001b[39;49m\u001b[38;5;241;43m.\u001b[39;49m\u001b[43m_call\u001b[49m\u001b[43m(\u001b[49m\u001b[38;5;241;43m*\u001b[39;49m\u001b[43margs\u001b[49m\u001b[43m,\u001b[49m\u001b[43m \u001b[49m\u001b[38;5;241;43m*\u001b[39;49m\u001b[38;5;241;43m*\u001b[39;49m\u001b[43mkwds\u001b[49m\u001b[43m)\u001b[49m\n\u001b[1;32m    896\u001b[0m new_tracing_count \u001b[38;5;241m=\u001b[39m \u001b[38;5;28mself\u001b[39m\u001b[38;5;241m.\u001b[39mexperimental_get_tracing_count()\n\u001b[1;32m    897\u001b[0m without_tracing \u001b[38;5;241m=\u001b[39m (tracing_count \u001b[38;5;241m==\u001b[39m new_tracing_count)\n",
      "File \u001b[0;32m~/.conda-envs/tf-gpu-cv/lib/python3.8/site-packages/tensorflow/python/eager/polymorphic_function/polymorphic_function.py:926\u001b[0m, in \u001b[0;36mFunction._call\u001b[0;34m(self, *args, **kwds)\u001b[0m\n\u001b[1;32m    923\u001b[0m   \u001b[38;5;28mself\u001b[39m\u001b[38;5;241m.\u001b[39m_lock\u001b[38;5;241m.\u001b[39mrelease()\n\u001b[1;32m    924\u001b[0m   \u001b[38;5;66;03m# In this case we have created variables on the first call, so we run the\u001b[39;00m\n\u001b[1;32m    925\u001b[0m   \u001b[38;5;66;03m# defunned version which is guaranteed to never create variables.\u001b[39;00m\n\u001b[0;32m--> 926\u001b[0m   \u001b[38;5;28;01mreturn\u001b[39;00m \u001b[38;5;28;43mself\u001b[39;49m\u001b[38;5;241;43m.\u001b[39;49m\u001b[43m_no_variable_creation_fn\u001b[49m\u001b[43m(\u001b[49m\u001b[38;5;241;43m*\u001b[39;49m\u001b[43margs\u001b[49m\u001b[43m,\u001b[49m\u001b[43m \u001b[49m\u001b[38;5;241;43m*\u001b[39;49m\u001b[38;5;241;43m*\u001b[39;49m\u001b[43mkwds\u001b[49m\u001b[43m)\u001b[49m  \u001b[38;5;66;03m# pylint: disable=not-callable\u001b[39;00m\n\u001b[1;32m    927\u001b[0m \u001b[38;5;28;01melif\u001b[39;00m \u001b[38;5;28mself\u001b[39m\u001b[38;5;241m.\u001b[39m_variable_creation_fn \u001b[38;5;129;01mis\u001b[39;00m \u001b[38;5;129;01mnot\u001b[39;00m \u001b[38;5;28;01mNone\u001b[39;00m:\n\u001b[1;32m    928\u001b[0m   \u001b[38;5;66;03m# Release the lock early so that multiple threads can perform the call\u001b[39;00m\n\u001b[1;32m    929\u001b[0m   \u001b[38;5;66;03m# in parallel.\u001b[39;00m\n\u001b[1;32m    930\u001b[0m   \u001b[38;5;28mself\u001b[39m\u001b[38;5;241m.\u001b[39m_lock\u001b[38;5;241m.\u001b[39mrelease()\n",
      "File \u001b[0;32m~/.conda-envs/tf-gpu-cv/lib/python3.8/site-packages/tensorflow/python/eager/polymorphic_function/tracing_compiler.py:143\u001b[0m, in \u001b[0;36mTracingCompiler.__call__\u001b[0;34m(self, *args, **kwargs)\u001b[0m\n\u001b[1;32m    140\u001b[0m \u001b[38;5;28;01mwith\u001b[39;00m \u001b[38;5;28mself\u001b[39m\u001b[38;5;241m.\u001b[39m_lock:\n\u001b[1;32m    141\u001b[0m   (concrete_function,\n\u001b[1;32m    142\u001b[0m    filtered_flat_args) \u001b[38;5;241m=\u001b[39m \u001b[38;5;28mself\u001b[39m\u001b[38;5;241m.\u001b[39m_maybe_define_function(args, kwargs)\n\u001b[0;32m--> 143\u001b[0m \u001b[38;5;28;01mreturn\u001b[39;00m \u001b[43mconcrete_function\u001b[49m\u001b[38;5;241;43m.\u001b[39;49m\u001b[43m_call_flat\u001b[49m\u001b[43m(\u001b[49m\n\u001b[1;32m    144\u001b[0m \u001b[43m    \u001b[49m\u001b[43mfiltered_flat_args\u001b[49m\u001b[43m,\u001b[49m\u001b[43m \u001b[49m\u001b[43mcaptured_inputs\u001b[49m\u001b[38;5;241;43m=\u001b[39;49m\u001b[43mconcrete_function\u001b[49m\u001b[38;5;241;43m.\u001b[39;49m\u001b[43mcaptured_inputs\u001b[49m\u001b[43m)\u001b[49m\n",
      "File \u001b[0;32m~/.conda-envs/tf-gpu-cv/lib/python3.8/site-packages/tensorflow/python/eager/polymorphic_function/monomorphic_function.py:1757\u001b[0m, in \u001b[0;36mConcreteFunction._call_flat\u001b[0;34m(self, args, captured_inputs, cancellation_manager)\u001b[0m\n\u001b[1;32m   1753\u001b[0m possible_gradient_type \u001b[38;5;241m=\u001b[39m gradients_util\u001b[38;5;241m.\u001b[39mPossibleTapeGradientTypes(args)\n\u001b[1;32m   1754\u001b[0m \u001b[38;5;28;01mif\u001b[39;00m (possible_gradient_type \u001b[38;5;241m==\u001b[39m gradients_util\u001b[38;5;241m.\u001b[39mPOSSIBLE_GRADIENT_TYPES_NONE\n\u001b[1;32m   1755\u001b[0m     \u001b[38;5;129;01mand\u001b[39;00m executing_eagerly):\n\u001b[1;32m   1756\u001b[0m   \u001b[38;5;66;03m# No tape is watching; skip to running the function.\u001b[39;00m\n\u001b[0;32m-> 1757\u001b[0m   \u001b[38;5;28;01mreturn\u001b[39;00m \u001b[38;5;28mself\u001b[39m\u001b[38;5;241m.\u001b[39m_build_call_outputs(\u001b[38;5;28;43mself\u001b[39;49m\u001b[38;5;241;43m.\u001b[39;49m\u001b[43m_inference_function\u001b[49m\u001b[38;5;241;43m.\u001b[39;49m\u001b[43mcall\u001b[49m\u001b[43m(\u001b[49m\n\u001b[1;32m   1758\u001b[0m \u001b[43m      \u001b[49m\u001b[43mctx\u001b[49m\u001b[43m,\u001b[49m\u001b[43m \u001b[49m\u001b[43margs\u001b[49m\u001b[43m,\u001b[49m\u001b[43m \u001b[49m\u001b[43mcancellation_manager\u001b[49m\u001b[38;5;241;43m=\u001b[39;49m\u001b[43mcancellation_manager\u001b[49m\u001b[43m)\u001b[49m)\n\u001b[1;32m   1759\u001b[0m forward_backward \u001b[38;5;241m=\u001b[39m \u001b[38;5;28mself\u001b[39m\u001b[38;5;241m.\u001b[39m_select_forward_and_backward_functions(\n\u001b[1;32m   1760\u001b[0m     args,\n\u001b[1;32m   1761\u001b[0m     possible_gradient_type,\n\u001b[1;32m   1762\u001b[0m     executing_eagerly)\n\u001b[1;32m   1763\u001b[0m forward_function, args_with_tangents \u001b[38;5;241m=\u001b[39m forward_backward\u001b[38;5;241m.\u001b[39mforward()\n",
      "File \u001b[0;32m~/.conda-envs/tf-gpu-cv/lib/python3.8/site-packages/tensorflow/python/eager/polymorphic_function/monomorphic_function.py:381\u001b[0m, in \u001b[0;36m_EagerDefinedFunction.call\u001b[0;34m(self, ctx, args, cancellation_manager)\u001b[0m\n\u001b[1;32m    379\u001b[0m \u001b[38;5;28;01mwith\u001b[39;00m _InterpolateFunctionError(\u001b[38;5;28mself\u001b[39m):\n\u001b[1;32m    380\u001b[0m   \u001b[38;5;28;01mif\u001b[39;00m cancellation_manager \u001b[38;5;129;01mis\u001b[39;00m \u001b[38;5;28;01mNone\u001b[39;00m:\n\u001b[0;32m--> 381\u001b[0m     outputs \u001b[38;5;241m=\u001b[39m \u001b[43mexecute\u001b[49m\u001b[38;5;241;43m.\u001b[39;49m\u001b[43mexecute\u001b[49m\u001b[43m(\u001b[49m\n\u001b[1;32m    382\u001b[0m \u001b[43m        \u001b[49m\u001b[38;5;28;43mstr\u001b[39;49m\u001b[43m(\u001b[49m\u001b[38;5;28;43mself\u001b[39;49m\u001b[38;5;241;43m.\u001b[39;49m\u001b[43msignature\u001b[49m\u001b[38;5;241;43m.\u001b[39;49m\u001b[43mname\u001b[49m\u001b[43m)\u001b[49m\u001b[43m,\u001b[49m\n\u001b[1;32m    383\u001b[0m \u001b[43m        \u001b[49m\u001b[43mnum_outputs\u001b[49m\u001b[38;5;241;43m=\u001b[39;49m\u001b[38;5;28;43mself\u001b[39;49m\u001b[38;5;241;43m.\u001b[39;49m\u001b[43m_num_outputs\u001b[49m\u001b[43m,\u001b[49m\n\u001b[1;32m    384\u001b[0m \u001b[43m        \u001b[49m\u001b[43minputs\u001b[49m\u001b[38;5;241;43m=\u001b[39;49m\u001b[43margs\u001b[49m\u001b[43m,\u001b[49m\n\u001b[1;32m    385\u001b[0m \u001b[43m        \u001b[49m\u001b[43mattrs\u001b[49m\u001b[38;5;241;43m=\u001b[39;49m\u001b[43mattrs\u001b[49m\u001b[43m,\u001b[49m\n\u001b[1;32m    386\u001b[0m \u001b[43m        \u001b[49m\u001b[43mctx\u001b[49m\u001b[38;5;241;43m=\u001b[39;49m\u001b[43mctx\u001b[49m\u001b[43m)\u001b[49m\n\u001b[1;32m    387\u001b[0m   \u001b[38;5;28;01melse\u001b[39;00m:\n\u001b[1;32m    388\u001b[0m     outputs \u001b[38;5;241m=\u001b[39m execute\u001b[38;5;241m.\u001b[39mexecute_with_cancellation(\n\u001b[1;32m    389\u001b[0m         \u001b[38;5;28mstr\u001b[39m(\u001b[38;5;28mself\u001b[39m\u001b[38;5;241m.\u001b[39msignature\u001b[38;5;241m.\u001b[39mname),\n\u001b[1;32m    390\u001b[0m         num_outputs\u001b[38;5;241m=\u001b[39m\u001b[38;5;28mself\u001b[39m\u001b[38;5;241m.\u001b[39m_num_outputs,\n\u001b[0;32m   (...)\u001b[0m\n\u001b[1;32m    393\u001b[0m         ctx\u001b[38;5;241m=\u001b[39mctx,\n\u001b[1;32m    394\u001b[0m         cancellation_manager\u001b[38;5;241m=\u001b[39mcancellation_manager)\n",
      "File \u001b[0;32m~/.conda-envs/tf-gpu-cv/lib/python3.8/site-packages/tensorflow/python/eager/execute.py:52\u001b[0m, in \u001b[0;36mquick_execute\u001b[0;34m(op_name, num_outputs, inputs, attrs, ctx, name)\u001b[0m\n\u001b[1;32m     50\u001b[0m \u001b[38;5;28;01mtry\u001b[39;00m:\n\u001b[1;32m     51\u001b[0m   ctx\u001b[38;5;241m.\u001b[39mensure_initialized()\n\u001b[0;32m---> 52\u001b[0m   tensors \u001b[38;5;241m=\u001b[39m \u001b[43mpywrap_tfe\u001b[49m\u001b[38;5;241;43m.\u001b[39;49m\u001b[43mTFE_Py_Execute\u001b[49m\u001b[43m(\u001b[49m\u001b[43mctx\u001b[49m\u001b[38;5;241;43m.\u001b[39;49m\u001b[43m_handle\u001b[49m\u001b[43m,\u001b[49m\u001b[43m \u001b[49m\u001b[43mdevice_name\u001b[49m\u001b[43m,\u001b[49m\u001b[43m \u001b[49m\u001b[43mop_name\u001b[49m\u001b[43m,\u001b[49m\n\u001b[1;32m     53\u001b[0m \u001b[43m                                      \u001b[49m\u001b[43minputs\u001b[49m\u001b[43m,\u001b[49m\u001b[43m \u001b[49m\u001b[43mattrs\u001b[49m\u001b[43m,\u001b[49m\u001b[43m \u001b[49m\u001b[43mnum_outputs\u001b[49m\u001b[43m)\u001b[49m\n\u001b[1;32m     54\u001b[0m \u001b[38;5;28;01mexcept\u001b[39;00m core\u001b[38;5;241m.\u001b[39m_NotOkStatusException \u001b[38;5;28;01mas\u001b[39;00m e:\n\u001b[1;32m     55\u001b[0m   \u001b[38;5;28;01mif\u001b[39;00m name \u001b[38;5;129;01mis\u001b[39;00m \u001b[38;5;129;01mnot\u001b[39;00m \u001b[38;5;28;01mNone\u001b[39;00m:\n",
      "\u001b[0;31mKeyboardInterrupt\u001b[0m: "
     ]
    }
   ],
   "source": [
    "# model.base.trainable = False\n",
    "model.compile(optimizer=OPTIMIZER, **CONFIG.COMPILE_PARAMS)\n",
    "model.fit(\n",
    "    train_dataset,\n",
    "    validation_data=val_dataset,\n",
    "    epochs=TRAIN_EPOCHS,\n",
    "    class_weight=CLASS_WEIGHTS,\n",
    "    callbacks=CALLBACKS,\n",
    "    **FIT_CONFIG,\n",
    ")"
   ]
  },
  {
   "cell_type": "markdown",
   "id": "643f0b8e-df58-4363-8048-b5ba28d23e60",
   "metadata": {},
   "source": [
    "## Fine-tuning"
   ]
  },
  {
   "cell_type": "code",
   "execution_count": null,
   "id": "9bb87692-4b30-400e-b515-730ba4c1c256",
   "metadata": {},
   "outputs": [],
   "source": [
    "PCT_FT_LAYERS = 0.20\n",
    "N = int(np.ceil(NUM_TRAINABLE * PCT_FT_LAYERS))"
   ]
  },
  {
   "cell_type": "code",
   "execution_count": null,
   "id": "7ed84cc7-965d-4b13-a625-dfdb9bf72e05",
   "metadata": {},
   "outputs": [],
   "source": [
    "# set ALL layers to trainable\n",
    "model.base.trainable = True\n",
    "\n",
    "# leave last N layers as trainable\n",
    "for layer in model.base.layers[:-N]:\n",
    "    if layer.get_weights():\n",
    "        layer.trainable = False"
   ]
  },
  {
   "cell_type": "code",
   "execution_count": null,
   "id": "ac753ddc-09d8-4220-adf5-3016fcf4ca1a",
   "metadata": {},
   "outputs": [],
   "source": [
    "model.compile(optimizer=OPTIMIZER, **config.COMPILE_PARAMS)\n",
    "model.fit(\n",
    "    train_dataset,\n",
    "    validation_data=val_dataset,\n",
    "    epochs=FT_EPOCHS,\n",
    "    class_weight=CLASS_WEIGHTS,\n",
    "    callbacks=FT_CALLBACKS,\n",
    "    **FIT_CONFIG,\n",
    ")"
   ]
  }
 ],
 "metadata": {
  "kernelspec": {
   "display_name": "Python [conda env:tf-gpu-cv]",
   "language": "python",
   "name": "conda-env-tf-gpu-cv-py"
  },
  "language_info": {
   "codemirror_mode": {
    "name": "ipython",
    "version": 3
   },
   "file_extension": ".py",
   "mimetype": "text/x-python",
   "name": "python",
   "nbconvert_exporter": "python",
   "pygments_lexer": "ipython3",
   "version": "3.8.16"
  }
 },
 "nbformat": 4,
 "nbformat_minor": 5
}
