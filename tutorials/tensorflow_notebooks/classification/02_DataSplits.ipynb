{
 "cells": [
  {
   "cell_type": "markdown",
   "id": "dc17f4b1-aa28-42c7-a9a9-6cf6a7e6064b",
   "metadata": {},
   "source": [
    "# Data Splits"
   ]
  },
  {
   "cell_type": "code",
   "execution_count": 11,
   "id": "92ed7a2d-6227-4315-9c87-a309d2f6451a",
   "metadata": {
    "execution": {
     "iopub.execute_input": "2023-10-15T09:04:43.950119Z",
     "iopub.status.busy": "2023-10-15T09:04:43.948926Z",
     "iopub.status.idle": "2023-10-15T09:04:43.957297Z",
     "shell.execute_reply": "2023-10-15T09:04:43.955983Z",
     "shell.execute_reply.started": "2023-10-15T09:04:43.950066Z"
    },
    "tags": []
   },
   "outputs": [],
   "source": [
    "import os\n",
    "from glob import glob\n",
    "import pandas as pd\n",
    "import numpy as np\n",
    "\n",
    "REPO_ROOT = \"/home/mdorosan/2023/cv-toolkit\"\n",
    "META_PATH = os.path.join(REPO_ROOT, \"metadata/kvasir-capsule.csv\")\n",
    "DATA_ROOT = os.path.join(REPO_ROOT, \"datasets/kvasir-capsule\")"
   ]
  },
  {
   "cell_type": "code",
   "execution_count": 12,
   "id": "01b2a641-04e2-4e8e-80af-00bda7dd69e1",
   "metadata": {
    "execution": {
     "iopub.execute_input": "2023-10-15T09:04:44.156496Z",
     "iopub.status.busy": "2023-10-15T09:04:44.155905Z",
     "iopub.status.idle": "2023-10-15T09:04:44.163274Z",
     "shell.execute_reply": "2023-10-15T09:04:44.162233Z",
     "shell.execute_reply.started": "2023-10-15T09:04:44.156447Z"
    },
    "tags": []
   },
   "outputs": [],
   "source": [
    "# update with experiment name\n",
    "EXP_PATH = os.path.join(\n",
    "    REPO_ROOT,\n",
    "    \"tutorials/tensorflow_notebooks/classification/test_runs/kvasir-capsule\") \n",
    "os.makedirs(EXP_PATH, exist_ok=True)\n",
    "\n",
    "import sys\n",
    "sys.path.append(REPO_ROOT)"
   ]
  },
  {
   "cell_type": "markdown",
   "id": "20946837-5bc5-4eec-8379-f9e2f6ff364b",
   "metadata": {},
   "source": [
    "## Construct metadata from paths"
   ]
  },
  {
   "cell_type": "code",
   "execution_count": 28,
   "id": "9f9401e2-b94d-489b-b869-7970169d053d",
   "metadata": {
    "execution": {
     "iopub.execute_input": "2023-10-15T09:34:29.055768Z",
     "iopub.status.busy": "2023-10-15T09:34:29.055227Z",
     "iopub.status.idle": "2023-10-15T09:34:29.064172Z",
     "shell.execute_reply": "2023-10-15T09:34:29.062900Z",
     "shell.execute_reply.started": "2023-10-15T09:34:29.055720Z"
    },
    "tags": []
   },
   "outputs": [],
   "source": [
    "# fname parser : \"\"<root>/<class>/<case_key>_<frame_key>.jpg\"\n",
    "def path_parser(fpath):\n",
    "    \"\"\"Parse metadata from image file path.\"\"\"\n",
    "    class_ = fpath.split(\"/\")[-2]\n",
    "    fname = fpath.split(\"/\")[-1]\n",
    "    case_id = fname.split(\"_\")[0]\n",
    "    # compound class and fname address multilabel collisions\n",
    "    img_id = \"_\".join([class_, fname])\n",
    "    return {\n",
    "        \"img_id\" : img_id,\n",
    "        \"fname\" : fname,\n",
    "        \"case_id\" : case_id,\n",
    "        \"target\" : class_,\n",
    "    }"
   ]
  },
  {
   "cell_type": "code",
   "execution_count": 29,
   "id": "4cf7dc6e-a827-4207-98f3-b01f9ac0766c",
   "metadata": {
    "execution": {
     "iopub.execute_input": "2023-10-15T09:34:29.066052Z",
     "iopub.status.busy": "2023-10-15T09:34:29.065681Z",
     "iopub.status.idle": "2023-10-15T09:34:29.333934Z",
     "shell.execute_reply": "2023-10-15T09:34:29.332701Z",
     "shell.execute_reply.started": "2023-10-15T09:34:29.066023Z"
    },
    "tags": []
   },
   "outputs": [],
   "source": [
    "paths = glob(os.path.join(DATA_ROOT, '*', '*'))\n",
    "\n",
    "rows = []\n",
    "for path in paths:\n",
    "    img_meta = path_parser(path)\n",
    "    rows.append(img_meta)\n",
    "\n",
    "metadata = pd.DataFrame(rows)"
   ]
  },
  {
   "cell_type": "code",
   "execution_count": 30,
   "id": "4ce4c5f1-d16b-48dc-bc90-0f8ba1bf27cd",
   "metadata": {
    "execution": {
     "iopub.execute_input": "2023-10-15T09:34:29.811014Z",
     "iopub.status.busy": "2023-10-15T09:34:29.810355Z",
     "iopub.status.idle": "2023-10-15T09:34:29.825791Z",
     "shell.execute_reply": "2023-10-15T09:34:29.824830Z",
     "shell.execute_reply.started": "2023-10-15T09:34:29.810961Z"
    },
    "tags": []
   },
   "outputs": [
    {
     "data": {
      "text/html": [
       "<div>\n",
       "<style scoped>\n",
       "    .dataframe tbody tr th:only-of-type {\n",
       "        vertical-align: middle;\n",
       "    }\n",
       "\n",
       "    .dataframe tbody tr th {\n",
       "        vertical-align: top;\n",
       "    }\n",
       "\n",
       "    .dataframe thead th {\n",
       "        text-align: right;\n",
       "    }\n",
       "</style>\n",
       "<table border=\"1\" class=\"dataframe\">\n",
       "  <thead>\n",
       "    <tr style=\"text-align: right;\">\n",
       "      <th></th>\n",
       "      <th>img_id</th>\n",
       "      <th>fname</th>\n",
       "      <th>case_id</th>\n",
       "      <th>target</th>\n",
       "    </tr>\n",
       "  </thead>\n",
       "  <tbody>\n",
       "    <tr>\n",
       "      <th>0</th>\n",
       "      <td>Ampulla of vater_eb0203196e284797_1157.jpg</td>\n",
       "      <td>eb0203196e284797_1157.jpg</td>\n",
       "      <td>eb0203196e284797</td>\n",
       "      <td>Ampulla of vater</td>\n",
       "    </tr>\n",
       "    <tr>\n",
       "      <th>1</th>\n",
       "      <td>Ampulla of vater_eb0203196e284797_1158.jpg</td>\n",
       "      <td>eb0203196e284797_1158.jpg</td>\n",
       "      <td>eb0203196e284797</td>\n",
       "      <td>Ampulla of vater</td>\n",
       "    </tr>\n",
       "    <tr>\n",
       "      <th>2</th>\n",
       "      <td>Ampulla of vater_eb0203196e284797_1160.jpg</td>\n",
       "      <td>eb0203196e284797_1160.jpg</td>\n",
       "      <td>eb0203196e284797</td>\n",
       "      <td>Ampulla of vater</td>\n",
       "    </tr>\n",
       "    <tr>\n",
       "      <th>3</th>\n",
       "      <td>Ampulla of vater_eb0203196e284797_1167.jpg</td>\n",
       "      <td>eb0203196e284797_1167.jpg</td>\n",
       "      <td>eb0203196e284797</td>\n",
       "      <td>Ampulla of vater</td>\n",
       "    </tr>\n",
       "    <tr>\n",
       "      <th>4</th>\n",
       "      <td>Ampulla of vater_eb0203196e284797_1168.jpg</td>\n",
       "      <td>eb0203196e284797_1168.jpg</td>\n",
       "      <td>eb0203196e284797</td>\n",
       "      <td>Ampulla of vater</td>\n",
       "    </tr>\n",
       "  </tbody>\n",
       "</table>\n",
       "</div>"
      ],
      "text/plain": [
       "                                       img_id                      fname   \n",
       "0  Ampulla of vater_eb0203196e284797_1157.jpg  eb0203196e284797_1157.jpg  \\\n",
       "1  Ampulla of vater_eb0203196e284797_1158.jpg  eb0203196e284797_1158.jpg   \n",
       "2  Ampulla of vater_eb0203196e284797_1160.jpg  eb0203196e284797_1160.jpg   \n",
       "3  Ampulla of vater_eb0203196e284797_1167.jpg  eb0203196e284797_1167.jpg   \n",
       "4  Ampulla of vater_eb0203196e284797_1168.jpg  eb0203196e284797_1168.jpg   \n",
       "\n",
       "            case_id            target  \n",
       "0  eb0203196e284797  Ampulla of vater  \n",
       "1  eb0203196e284797  Ampulla of vater  \n",
       "2  eb0203196e284797  Ampulla of vater  \n",
       "3  eb0203196e284797  Ampulla of vater  \n",
       "4  eb0203196e284797  Ampulla of vater  "
      ]
     },
     "execution_count": 30,
     "metadata": {},
     "output_type": "execute_result"
    }
   ],
   "source": [
    "metadata.head()"
   ]
  },
  {
   "cell_type": "markdown",
   "id": "09d4fc7f-686a-417a-89ba-a0e263185a69",
   "metadata": {},
   "source": [
    "## Load metadata if available"
   ]
  },
  {
   "cell_type": "code",
   "execution_count": 22,
   "id": "23efcb17-3f4d-45a9-8d26-539223b8b4b3",
   "metadata": {
    "execution": {
     "iopub.execute_input": "2023-10-15T09:26:18.921684Z",
     "iopub.status.busy": "2023-10-15T09:26:18.921067Z",
     "iopub.status.idle": "2023-10-15T09:26:19.045996Z",
     "shell.execute_reply": "2023-10-15T09:26:19.044904Z",
     "shell.execute_reply.started": "2023-10-15T09:26:18.921632Z"
    },
    "tags": []
   },
   "outputs": [
    {
     "data": {
      "text/html": [
       "<div>\n",
       "<style scoped>\n",
       "    .dataframe tbody tr th:only-of-type {\n",
       "        vertical-align: middle;\n",
       "    }\n",
       "\n",
       "    .dataframe tbody tr th {\n",
       "        vertical-align: top;\n",
       "    }\n",
       "\n",
       "    .dataframe thead th {\n",
       "        text-align: right;\n",
       "    }\n",
       "</style>\n",
       "<table border=\"1\" class=\"dataframe\">\n",
       "  <thead>\n",
       "    <tr style=\"text-align: right;\">\n",
       "      <th></th>\n",
       "      <th>filename</th>\n",
       "      <th>video_id</th>\n",
       "      <th>frame_number</th>\n",
       "      <th>finding_category</th>\n",
       "      <th>finding_class</th>\n",
       "      <th>x1</th>\n",
       "      <th>y1</th>\n",
       "      <th>x2</th>\n",
       "      <th>y2</th>\n",
       "      <th>x3</th>\n",
       "      <th>y3</th>\n",
       "      <th>x4</th>\n",
       "      <th>y4</th>\n",
       "    </tr>\n",
       "  </thead>\n",
       "  <tbody>\n",
       "    <tr>\n",
       "      <th>0</th>\n",
       "      <td>0728084c8da942d9_22803.jpg</td>\n",
       "      <td>0728084c8da942d9</td>\n",
       "      <td>22803</td>\n",
       "      <td>Luminal</td>\n",
       "      <td>Normal clean mucosa</td>\n",
       "      <td>NaN</td>\n",
       "      <td>NaN</td>\n",
       "      <td>NaN</td>\n",
       "      <td>NaN</td>\n",
       "      <td>NaN</td>\n",
       "      <td>NaN</td>\n",
       "      <td>NaN</td>\n",
       "      <td>NaN</td>\n",
       "    </tr>\n",
       "    <tr>\n",
       "      <th>1</th>\n",
       "      <td>0728084c8da942d9_22804.jpg</td>\n",
       "      <td>0728084c8da942d9</td>\n",
       "      <td>22804</td>\n",
       "      <td>Luminal</td>\n",
       "      <td>Normal clean mucosa</td>\n",
       "      <td>NaN</td>\n",
       "      <td>NaN</td>\n",
       "      <td>NaN</td>\n",
       "      <td>NaN</td>\n",
       "      <td>NaN</td>\n",
       "      <td>NaN</td>\n",
       "      <td>NaN</td>\n",
       "      <td>NaN</td>\n",
       "    </tr>\n",
       "    <tr>\n",
       "      <th>2</th>\n",
       "      <td>0728084c8da942d9_22805.jpg</td>\n",
       "      <td>0728084c8da942d9</td>\n",
       "      <td>22805</td>\n",
       "      <td>Luminal</td>\n",
       "      <td>Normal clean mucosa</td>\n",
       "      <td>NaN</td>\n",
       "      <td>NaN</td>\n",
       "      <td>NaN</td>\n",
       "      <td>NaN</td>\n",
       "      <td>NaN</td>\n",
       "      <td>NaN</td>\n",
       "      <td>NaN</td>\n",
       "      <td>NaN</td>\n",
       "    </tr>\n",
       "    <tr>\n",
       "      <th>3</th>\n",
       "      <td>0728084c8da942d9_22806.jpg</td>\n",
       "      <td>0728084c8da942d9</td>\n",
       "      <td>22806</td>\n",
       "      <td>Luminal</td>\n",
       "      <td>Normal clean mucosa</td>\n",
       "      <td>NaN</td>\n",
       "      <td>NaN</td>\n",
       "      <td>NaN</td>\n",
       "      <td>NaN</td>\n",
       "      <td>NaN</td>\n",
       "      <td>NaN</td>\n",
       "      <td>NaN</td>\n",
       "      <td>NaN</td>\n",
       "    </tr>\n",
       "    <tr>\n",
       "      <th>4</th>\n",
       "      <td>0728084c8da942d9_22807.jpg</td>\n",
       "      <td>0728084c8da942d9</td>\n",
       "      <td>22807</td>\n",
       "      <td>Luminal</td>\n",
       "      <td>Normal clean mucosa</td>\n",
       "      <td>NaN</td>\n",
       "      <td>NaN</td>\n",
       "      <td>NaN</td>\n",
       "      <td>NaN</td>\n",
       "      <td>NaN</td>\n",
       "      <td>NaN</td>\n",
       "      <td>NaN</td>\n",
       "      <td>NaN</td>\n",
       "    </tr>\n",
       "  </tbody>\n",
       "</table>\n",
       "</div>"
      ],
      "text/plain": [
       "                     filename          video_id  frame_number   \n",
       "0  0728084c8da942d9_22803.jpg  0728084c8da942d9         22803  \\\n",
       "1  0728084c8da942d9_22804.jpg  0728084c8da942d9         22804   \n",
       "2  0728084c8da942d9_22805.jpg  0728084c8da942d9         22805   \n",
       "3  0728084c8da942d9_22806.jpg  0728084c8da942d9         22806   \n",
       "4  0728084c8da942d9_22807.jpg  0728084c8da942d9         22807   \n",
       "\n",
       "  finding_category        finding_class  x1  y1  x2  y2  x3  y3  x4  y4  \n",
       "0          Luminal  Normal clean mucosa NaN NaN NaN NaN NaN NaN NaN NaN  \n",
       "1          Luminal  Normal clean mucosa NaN NaN NaN NaN NaN NaN NaN NaN  \n",
       "2          Luminal  Normal clean mucosa NaN NaN NaN NaN NaN NaN NaN NaN  \n",
       "3          Luminal  Normal clean mucosa NaN NaN NaN NaN NaN NaN NaN NaN  \n",
       "4          Luminal  Normal clean mucosa NaN NaN NaN NaN NaN NaN NaN NaN  "
      ]
     },
     "metadata": {},
     "output_type": "display_data"
    }
   ],
   "source": [
    "metadata = pd.read_csv(META_PATH, sep=\";\")\n",
    "display(metadata.head())\n",
    "\n",
    "# filtering for sample task\n",
    "select_class = ['']\n",
    "metadata = metadata.loc[metadata.]\n",
    "\n",
    "TARGET_KEY = \"finding_class\" # used to stratify and get y\n",
    "GROUP_KEY = \"video_id\" # used for grouped splits\n",
    "\n",
    "X, y = metadata.drop(columns=[TARGET_KEY]), metadata[TARGET_KEY]"
   ]
  },
  {
   "cell_type": "markdown",
   "id": "0033342d-2791-4781-8ec9-3141518eaed7",
   "metadata": {},
   "source": [
    "## Stratified shuffle splits"
   ]
  },
  {
   "cell_type": "code",
   "execution_count": 18,
   "id": "b59041ba-5080-4fd6-ad8d-fc3b409684f5",
   "metadata": {
    "execution": {
     "iopub.execute_input": "2023-10-15T09:04:52.447213Z",
     "iopub.status.busy": "2023-10-15T09:04:52.446206Z",
     "iopub.status.idle": "2023-10-15T09:04:52.762663Z",
     "shell.execute_reply": "2023-10-15T09:04:52.761189Z",
     "shell.execute_reply.started": "2023-10-15T09:04:52.447162Z"
    }
   },
   "outputs": [
    {
     "data": {
      "text/plain": [
       "(37798, 13)"
      ]
     },
     "metadata": {},
     "output_type": "display_data"
    },
    {
     "data": {
      "text/plain": [
       "(9450, 13)"
      ]
     },
     "metadata": {},
     "output_type": "display_data"
    },
    {
     "data": {
      "text/plain": [
       "(37798, 13)"
      ]
     },
     "metadata": {},
     "output_type": "display_data"
    },
    {
     "data": {
      "text/plain": [
       "(9450, 13)"
      ]
     },
     "metadata": {},
     "output_type": "display_data"
    }
   ],
   "source": [
    "from sklearn.model_selection import StratifiedShuffleSplit\n",
    "\n",
    "sss = StratifiedShuffleSplit(n_splits=2, test_size=0.2, random_state=0)\n",
    "\n",
    "for i, (train_index, val_index) in enumerate(sss.split(X, y)):\n",
    "    train = metadata.iloc[train_index]\n",
    "    val = metadata.iloc[val_index]\n",
    "    \n",
    "    display(train.shape)\n",
    "    display(val.shape)\n",
    "    \n",
    "    # train.to_csv(os.path.join(EXP_PATH, f\"fold-{i}/train.csv\", index=False)\n",
    "    # val.to_csv(os.path.join(EXP_PATH, f\"fold-{i}/val.csv\", index=False)"
   ]
  },
  {
   "cell_type": "markdown",
   "id": "43f3c2af-b3d3-4c82-a929-7178d750c2fc",
   "metadata": {},
   "source": [
    "## Grouped shuffle splits"
   ]
  },
  {
   "cell_type": "code",
   "execution_count": 19,
   "id": "99bb2d37-8eb7-4fb0-8178-059f757aa68c",
   "metadata": {
    "execution": {
     "iopub.execute_input": "2023-10-15T09:05:11.292389Z",
     "iopub.status.busy": "2023-10-15T09:05:11.291089Z",
     "iopub.status.idle": "2023-10-15T09:05:11.388034Z",
     "shell.execute_reply": "2023-10-15T09:05:11.386838Z",
     "shell.execute_reply.started": "2023-10-15T09:05:11.292343Z"
    },
    "tags": []
   },
   "outputs": [
    {
     "data": {
      "text/plain": [
       "(36019, 13)"
      ]
     },
     "metadata": {},
     "output_type": "display_data"
    },
    {
     "data": {
      "text/plain": [
       "(11229, 13)"
      ]
     },
     "metadata": {},
     "output_type": "display_data"
    },
    {
     "data": {
      "text/plain": [
       "(39094, 13)"
      ]
     },
     "metadata": {},
     "output_type": "display_data"
    },
    {
     "data": {
      "text/plain": [
       "(8154, 13)"
      ]
     },
     "metadata": {},
     "output_type": "display_data"
    }
   ],
   "source": [
    "from sklearn.model_selection import GroupShuffleSplit\n",
    "\n",
    "X, y = metadata.drop(columns=[TARGET_KEY]), metadata[TARGET_KEY]\n",
    "groups = metadata[GROUP_KEY]\n",
    "gss = GroupShuffleSplit(n_splits=2, test_size=0.2, random_state=0)\n",
    "\n",
    "for i, (train_index, val_index) in enumerate(gss.split(X, y, groups)):\n",
    "    train = metadata.iloc[train_index]\n",
    "    val = metadata.iloc[val_index]\n",
    "    \n",
    "    display(train.shape)\n",
    "    display(val.shape)\n",
    "\n",
    "    # train.to_csv(os.path.join(EXP_PATH, f\"fold-{i}/train.csv\", index=False)\n",
    "    # val.to_csv(os.path.join(EXP_PATH, f\"fold-{i}/val.csv\", index=False)"
   ]
  },
  {
   "cell_type": "markdown",
   "id": "feb06bbe-a77d-4c98-817d-1e73e63f7b84",
   "metadata": {},
   "source": [
    "## Grouped-stratified splits"
   ]
  },
  {
   "cell_type": "code",
   "execution_count": 21,
   "id": "e053d882-ec69-423b-9971-10e21f3aafb5",
   "metadata": {
    "execution": {
     "iopub.execute_input": "2023-10-15T09:08:35.476859Z",
     "iopub.status.busy": "2023-10-15T09:08:35.475643Z",
     "iopub.status.idle": "2023-10-15T09:08:35.690727Z",
     "shell.execute_reply": "2023-10-15T09:08:35.689791Z",
     "shell.execute_reply.started": "2023-10-15T09:08:35.476808Z"
    },
    "tags": []
   },
   "outputs": [
    {
     "data": {
      "text/plain": [
       "(32146, 13)"
      ]
     },
     "metadata": {},
     "output_type": "display_data"
    },
    {
     "data": {
      "text/plain": [
       "(15102, 13)"
      ]
     },
     "metadata": {},
     "output_type": "display_data"
    },
    {
     "data": {
      "text/plain": [
       "(30067, 13)"
      ]
     },
     "metadata": {},
     "output_type": "display_data"
    },
    {
     "data": {
      "text/plain": [
       "(17181, 13)"
      ]
     },
     "metadata": {},
     "output_type": "display_data"
    },
    {
     "data": {
      "text/plain": [
       "(32283, 13)"
      ]
     },
     "metadata": {},
     "output_type": "display_data"
    },
    {
     "data": {
      "text/plain": [
       "(14965, 13)"
      ]
     },
     "metadata": {},
     "output_type": "display_data"
    }
   ],
   "source": [
    "from sklearn.model_selection import StratifiedGroupKFold\n",
    "\n",
    "X, y = metadata.drop(columns=[TARGET_KEY]), metadata[TARGET_KEY]\n",
    "groups = metadata[GROUP_KEY]\n",
    "sgkf = StratifiedGroupKFold(n_splits=3)\n",
    "\n",
    "for i, (train_index, val_index) in enumerate(sgkf.split(X, y, groups)):\n",
    "    train = metadata.iloc[train_index]\n",
    "    val = metadata.iloc[val_index]\n",
    "    \n",
    "    \n",
    "    display(train.shape)\n",
    "    display(val.shape)\n",
    "    \n",
    "        # train.to_csv(os.path.join(EXP_PATH, f\"fold-{i}/train.csv\", index=False)\n",
    "    # val.to_csv(os.path.join(EXP_PATH, f\"fold-{i}/val.csv\", index=False)"
   ]
  }
 ],
 "metadata": {
  "kernelspec": {
   "display_name": "Python [conda env:tf-gpu-cv]",
   "language": "python",
   "name": "conda-env-tf-gpu-cv-py"
  },
  "language_info": {
   "codemirror_mode": {
    "name": "ipython",
    "version": 3
   },
   "file_extension": ".py",
   "mimetype": "text/x-python",
   "name": "python",
   "nbconvert_exporter": "python",
   "pygments_lexer": "ipython3",
   "version": "3.8.16"
  }
 },
 "nbformat": 4,
 "nbformat_minor": 5
}
